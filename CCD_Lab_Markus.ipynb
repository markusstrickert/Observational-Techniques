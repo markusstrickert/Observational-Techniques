{
 "cells": [
  {
   "cell_type": "markdown",
   "metadata": {},
   "source": [
    "##### Some general comments"
   ]
  },
  {
   "cell_type": "markdown",
   "metadata": {},
   "source": [
    "As you can notice, things are written in cells. Each cell is given a number in front of it, if you choose 'Code' rather than anything else.\n",
    "\n",
    "In this cell I have chosen 'Markdown', so latex applies here. You can use a lot of features in the latex way, including editing equations.\n",
    "\n",
    "How do you execute a cell?\n",
    "\n",
    "Answer: 'shift' + 'enter' to execute the current cell."
   ]
  },
  {
   "cell_type": "markdown",
   "metadata": {},
   "source": [
    "Line initialised with '#' is a piece of comment, will be ignored when you execute the cell."
   ]
  },
  {
   "cell_type": "code",
   "execution_count": null,
   "metadata": {},
   "outputs": [],
   "source": [
    "#I'm a comment."
   ]
  },
  {
   "cell_type": "markdown",
   "metadata": {},
   "source": [
    "Everything inside a pair of triple quote is also a comment, thus ignored as well."
   ]
  },
  {
   "cell_type": "markdown",
   "metadata": {},
   "source": [
    "# Task 1"
   ]
  },
  {
   "cell_type": "markdown",
   "metadata": {},
   "source": [
    "except for the most commonly used packages such as 'numpy' (for array operations) and 'matplotlib' (for making plots), most packages must be imported before you can use it."
   ]
  },
  {
   "cell_type": "markdown",
   "metadata": {},
   "source": [
    "###### The following concerns the dark frame part"
   ]
  },
  {
   "cell_type": "code",
   "execution_count": null,
   "metadata": {},
   "outputs": [],
   "source": [
    "#Import astropy. It's written for astronomers, by astronermers.\n",
    "#You can visit the following webpage reading comprehensive tutorials:\n",
    "#http://www.astropy.org/astropy-tutorials/   \n",
    "\n",
    "from astropy.io import fits\n",
    "import matplotlib.pyplot as plt\n",
    "import numpy as np\n",
    "plt.style.use('style_python.mplstyle')"
   ]
  },
  {
   "cell_type": "code",
   "execution_count": null,
   "metadata": {},
   "outputs": [],
   "source": [
    "#read in a dark frame. Remember you need to put your own fits file\n",
    "#in the same directory as the notebook (otherwise indicate the right path),\n",
    "#then correct the file name.\n",
    "#this line doesn't work if you do nothing.\n",
    "\n",
    "\n",
    "hdu_list1 = fits.open('DSI1Dark0001,0_024,5_.fts')\n",
    "hdu_list4 = fits.open('DSI1Dark0004,0_024,5_.fts')\n",
    "hdu_list113 = fits.open('DSI1Dark0011,3_024,5_.fts')\n",
    "hdu_list30 = fits.open('DSI1Dark0030,0_025,0_.fts')"
   ]
  },
  {
   "cell_type": "code",
   "execution_count": null,
   "metadata": {},
   "outputs": [],
   "source": [
    "#store the array into some varaible called image_data, you can call it\n",
    "#anything you like, but it should be suggestive. There're some rules\n",
    "#on naming, do a google search yourself, 'python variable naming rules'.\n",
    "\n",
    "image_data1 = hdu_list1[0].data\n",
    "image_data4 = hdu_list4[0].data\n",
    "image_data113 = hdu_list113[0].data\n",
    "image_data30 = hdu_list30[0].data"
   ]
  },
  {
   "cell_type": "code",
   "execution_count": null,
   "metadata": {},
   "outputs": [],
   "source": []
  },
  {
   "cell_type": "code",
   "execution_count": null,
   "metadata": {},
   "outputs": [],
   "source": []
  },
  {
   "cell_type": "code",
   "execution_count": null,
   "metadata": {},
   "outputs": [],
   "source": [
    "#show the image using the following code.\n",
    "import matplotlib.gridspec as gridspec\n",
    "import matplotlib.patches as patches\n",
    "#size of the plot, you can change the size for better view\n",
    "fig, ax = plt.subplots(2,2, figsize = (14,10))\n",
    "#'cmap' is colormap, instead of 'hot', you can use anyting else available\n",
    "#google 'python colormap', you can decide which one you like.\n",
    "\n",
    "#'clim' assigns the minimum and maximum vales of the colormap, change them\n",
    "#bit by bit to see the difference. Quite often you need to fine tune these\n",
    "#two values to get a good illustration of the image.\n",
    "\n",
    "aa = ax[0,0].imshow(image_data1, cmap = 'hot', vmin = (np.min(image_data1)),vmax = 6300, aspect = 'auto')\n",
    "ax[0,0].set_title('1 s exposure')\n",
    "#plt.xlim(600,800)\n",
    "#plt.ylim(600,800)\n",
    "rect = patches.Rectangle((800, 600), 400, 200, linewidth=3, edgecolor='teal', facecolor='none')\n",
    "ax[0,0].add_patch(rect)\n",
    "\n",
    "ax[0,1].imshow(image_data4, cmap = 'hot', vmin = (np.min(image_data1)),vmax = 6300, aspect = 'auto')\n",
    "ax[0,1].set_title('4 s exposure')\n",
    "#plt.xlim(600,800)\n",
    "#plt.ylim(600,800)\n",
    "rect = patches.Rectangle((800, 600), 400, 200, linewidth=3, edgecolor='teal', facecolor='none')\n",
    "ax[0,1].add_patch(rect)\n",
    "\n",
    "ax[1,0].imshow(image_data113, cmap = 'hot', vmin = (np.min(image_data1)),vmax = 6300, aspect = 'auto')\n",
    "ax[1,0].set_title('11.3 s exposure')\n",
    "#plt.xlim(600,800)\n",
    "#plt.ylim(600,800)\n",
    "rect = patches.Rectangle((800, 600), 400, 200, linewidth=3, edgecolor='teal', facecolor='none')\n",
    "ax[1,0].add_patch(rect)\n",
    "\n",
    "ax[1,1].imshow(image_data30, cmap = 'hot', vmin = (np.min(image_data1)),vmax = 6300, aspect = 'auto')\n",
    "ax[1,1].set_title('30 s exposure')\n",
    "rect = patches.Rectangle((800, 600), 400, 200, linewidth=3, edgecolor='teal', facecolor='none')\n",
    "ax[1,1].add_patch(rect)\n",
    "#plt.xlim(600,800)\n",
    "#plt.ylim(600,800)\n",
    "plt.subplots_adjust(wspace = 1e-10)\n",
    "#plt.ylabel('Count')\n",
    "cbar_ax = fig.add_axes([ax1.get_position().x1+0.03,ax1.get_position().y0,0.03,ax1.get_position().height])\n",
    "fig.colorbar(aa, cax=cbar_ax, label= r'Pixel intensity')\n",
    "\n",
    "plt.subplots_adjust(wspace = 0.15, hspace = 0.25)\n",
    "plt.savefig('dark_exposures.pdf', dpi = 300, bbox_inches = 'tight')\n",
    "#show only part of the image, you can choose x and y range.\n",
    "#if you comment the lines by writing # in front of the lines,\n",
    "#see what you get\n"
   ]
  },
  {
   "cell_type": "code",
   "execution_count": null,
   "metadata": {},
   "outputs": [],
   "source": [
    "#Now we want a histogram for the dark patch above.\n",
    "\n",
    "#extract the patch to a new variable.\n",
    "image_data_patch1 = image_data1[600:800, 600:800]\n",
    "\n",
    "#reshape this 2D patch into 1D, before you draw histogram\n",
    "image_data_patch_reshaped1 = image_data_patch1.reshape(200*200,)\n",
    "\n",
    "#why 200*200? because it's (800-600)*(800-600). If you choose a different\n",
    "#patch, you need to specify the shape according to your own case.\n",
    "\n",
    "\n",
    "image_data_patch4 = image_data4[600:800, 600:800]\n",
    "image_data_patch_reshaped4 = image_data_patch4.reshape(200*200,)\n",
    "\n",
    "image_data_patch113 = image_data113[600:800, 600:800]\n",
    "image_data_patch_reshaped113 = image_data_patch113.reshape(200*200,)\n",
    "\n",
    "image_data_patch30 = image_data30[600:800, 600:800]\n",
    "image_data_patch_reshaped30 = image_data_patch30.reshape(200*200,)"
   ]
  },
  {
   "cell_type": "code",
   "execution_count": null,
   "metadata": {},
   "outputs": [],
   "source": [
    "#set size\n",
    "fig = plt.figure(figsize=(14,10))\n",
    "\n",
    "plt.subplot(2,2,1)\n",
    "plt.title('1 s exposure')\n",
    "plt.ylim(0,7500)\n",
    "#define your bin, lower limit 5500, upper limit 60000, 500 counts in each bin\n",
    "bins = np.arange(np.min(image_data1), 6300, 10)\n",
    "\n",
    "#ask for a histogram\n",
    "plt.hist(image_data_patch_reshaped1, bins, color='teal', hatch=\"/\", fill=False, edgecolor=\"teal\")\n",
    "\n",
    "#set title, font size, and vertical gap height between the title and the upper x axis.\n",
    "#all these you can regulate yourself.\n",
    "#ax.set_title('Counts Histogram for ?? Dark Exposure - a Patch', fontsize=25, y=1.04)\n",
    "plt.subplot(2,2,2)\n",
    "plt.title('4 s exposure')\n",
    "plt.ylim(0,7500)\n",
    "bins = np.arange(np.min(image_data4), 6300, 10)\n",
    "plt.hist(image_data_patch_reshaped4, bins, color='teal', hatch=\"/\", fill=False, edgecolor=\"teal\")\n",
    "\n",
    "plt.subplot(2,2,3)\n",
    "plt.title('11.3 s exposure')\n",
    "plt.ylim(0,7500)\n",
    "bins = np.arange(np.min(image_data113), 6300, 10)\n",
    "plt.hist(image_data_patch_reshaped113, bins, color='teal', hatch=\"/\", fill=False, edgecolor=\"teal\")\n",
    "\n",
    "plt.subplot(2,2,4)\n",
    "plt.title('30 s exposure')\n",
    "plt.ylim(0,7500)\n",
    "bins = np.arange(np.min(image_data30), 6300, 10)\n",
    "plt.hist(image_data_patch_reshaped30, bins, color='teal', hatch=\"/\", fill=False, edgecolor=\"teal\")\n",
    "\n",
    "plt.savefig('histograms_dark.pdf', dpi = 300, bbox_inches = 'tight')\n",
    "\n",
    "#The following line saves the image for you, delete the #, execute the cell,\n",
    "#if no error message occurs, you should have a pdf in the folder of the notebook\n",
    "#afterwards comment the line again, it's a good habbit to keep lines of this kind\n",
    "#commented.\n",
    "#fig.savefig('Histogram_43m_Dark.pdf')\n",
    "\n",
    "#remember you can always show a part of the histogram, by using\n",
    "#plt.xlim() and plt.ylim()"
   ]
  },
  {
   "cell_type": "code",
   "execution_count": null,
   "metadata": {},
   "outputs": [],
   "source": []
  },
  {
   "cell_type": "code",
   "execution_count": null,
   "metadata": {},
   "outputs": [],
   "source": [
    "#I show you a simple linear regression example here, you need to\n",
    "#adapt it for your own case.\n",
    "\n",
    "#a new package we need to import. scipy contains numerous extremely\n",
    "#useful functions. scipy and numpy together solves most general\n",
    "#purpose problems for you.\n",
    "from scipy import stats\n",
    "\n",
    "#define two list, a and b, later we do linear regression on these\n",
    "#three points\n",
    "\n",
    "a1 = image_data1[600:800,800:1200]\n",
    "a4 = image_data4[600:800,800:1200]\n",
    "a113 = image_data113[600:800,800:1200]\n",
    "a30 = image_data30[600:800,800:1200]\n",
    "\n",
    "alow1 = np.mean(a1)\n",
    "alow4 = np.mean(a4)\n",
    "alow113 = np.mean(a113)\n",
    "alow30 = np.mean(a30)\n",
    "\n",
    "exptimes = [1,4,11.3,25]\n",
    "\n",
    "afull1 = np.mean(image_data1)\n",
    "afull4 = np.mean(image_data4)\n",
    "afull113 = np.mean(image_data113)\n",
    "afull30 = np.mean(image_data30)\n",
    "\n",
    "\n",
    "#linear regression is done\n",
    "\n",
    "a = [alow1, alow4,alow113,alow30]\n",
    "afull = [afull1,afull4,afull113,afull30]\n",
    "\n",
    "slope, intercept, r_value, p_value, std_err = stats.linregress(exptimes, a)\n",
    "slopefull, interceptfull, r_valuefull, p_valuefull, std_errfull = stats.linregress(exptimes, afull)\n",
    "\n",
    "#slope, intercept, r_value, p_value, std_err = stats.linregress(a, b)\n",
    "\n",
    "\n",
    "#check the following link to see what're the returns\n",
    "#http://docs.scipy.org/doc/scipy/reference/generated/scipy.stats.linregress.html\n",
    "#you probably only need slope and intercept.\n",
    "#remember the variables on the left hand side can be named in anything you want.\n"
   ]
  },
  {
   "cell_type": "code",
   "execution_count": null,
   "metadata": {},
   "outputs": [],
   "source": [
    "#show slope and y-intercept\n",
    "slope, intercept\n",
    "slopefull, interceptfull\n",
    "\n",
    "#surely enough, slope is just 1, as expected, and intercept is very\n",
    "#close to 0."
   ]
  },
  {
   "cell_type": "code",
   "execution_count": null,
   "metadata": {},
   "outputs": [],
   "source": [
    "#uniformly spacing from 0 to 4, 100 points, for x axis\n",
    "lg_x = np.linspace(0., np.max(exptimes)+2, 100)\n",
    "\n",
    "#use the slope and the intercept we just calculated to get data for the y axis\n",
    "lg_y = lg_x*slope + intercept\n",
    "#why do we need these two 1D array? because we need points\n",
    "#to show a curve. So long as the points are dense enough,\n",
    "#we won't notice whether we're drawing a curve or just\n",
    "#bunch of points.\n",
    "lg_xfull = np.linspace(0., np.max(exptimes)+2, 100)\n",
    "lg_yfull = lg_xfull*slopefull + interceptfull\n",
    "\n"
   ]
  },
  {
   "cell_type": "code",
   "execution_count": null,
   "metadata": {},
   "outputs": [],
   "source": [
    "#show both the three points from a and b, and the linear regression\n",
    "#we just did for the three points\n",
    "\n",
    "#again, figure size\n",
    "fig = plt.subplots(figsize=(9,6))\n",
    "\n",
    "#show the three points, s is marker size, c is color\n",
    "plt.scatter(exptimes, a, marker='o', edgecolor = 'black', color = 'darkred',s = 100, label='Patches')\n",
    "plt.scatter(exptimes, afull, marker = 'h', edgecolor = 'black', color = 'teal', s = 100, label = 'Full')\n",
    "#plot our linear regression\n",
    "plt.plot(lg_x, lg_y, label=fr'$\\alpha = ${slope:.2f}, $\\beta = $ {intercept:.2f}', color = 'darkred')\n",
    "plt.plot(lg_xfull, lg_yfull, label=fr'$\\alpha$ = {slopefull:.2f}, $\\beta$ = {interceptfull:.2f}', color = 'teal')\n",
    "\n",
    "#where the legend is, and the font size\n",
    "plt.legend(loc='upper left', shadow=True)\n",
    "plt.xlabel('Exposure time [s]')\n",
    "plt.ylabel(r'$\\langle \\# e^-/ \\rm{pixel} \\rangle$')\n",
    "#set x range\n",
    "#ax.set_xlim(0,4)\n",
    "\n",
    "#set title\n",
    "plt.title('Dark current')\n",
    "plt.savefig('dakr_current_regression.pdf', dpi = 300, bbox_inches = 'tight')\n",
    "#to save the plot, again comment it unless you're satisfied with\n",
    "#your plot and really want to save it.\n",
    "#fig.savefig('Linear_Regression.pdf')"
   ]
  },
  {
   "cell_type": "markdown",
   "metadata": {},
   "source": [
    "###### How do you do the background subtraction?"
   ]
  },
  {
   "cell_type": "markdown",
   "metadata": {},
   "source": [
    "Easy: read in one image, save the data to a variable (say a). read in another image, save the data to another variable (say b). If the two data have the same dimensions (in our case it must do, since we're using the same CCD chip), you can use the command 'c = a - b' to do elementwise operation, and save it to some variable c. Then you show c as an image, using the code I showed in the very beginning. Remember to fine tune the parameter 'clim' to have a good view."
   ]
  },
  {
   "cell_type": "code",
   "execution_count": null,
   "metadata": {},
   "outputs": [],
   "source": [
    "fig = plt.figure(figsize = (15,5))\n",
    "ax1 = plt.axes()\n",
    "sci = fits.open('orion_on_1s0001-0153.fts')\n",
    "sci = sci[0].data\n",
    "\n",
    "sky = fits.open('orion_off_1s0001-0041.fts')\n",
    "sky = sky[0].data\n",
    "\n",
    "bias = fits.open('bias0001-0019.fts')\n",
    "bias = bias[0].data\n",
    "\n",
    "vmin = 5500\n",
    "vmax = 7000\n",
    "plt.subplot(1,2,1)\n",
    "plt.title('Raw Scientific')\n",
    "ak = plt.imshow(sci, cmap = 'hot', vmin = vmin, vmax = vmax, aspect= 'auto')\n",
    "plt.xlim(0,1000)\n",
    "\n",
    "plt.subplot(1,2,2)\n",
    "plt.title('Sky Background')\n",
    "plt.imshow(sky, cmap = 'hot', vmin = vmin, vmax = vmax, aspect= 'auto')\n",
    "plt.xlim(0,1000)\n",
    "cbar_ax = fig.add_axes([ax1.get_position().x1+0.03,ax1.get_position().y0,0.03,ax1.get_position().height])\n",
    "fig.colorbar(ak, cax=cbar_ax, label= r'Pixel intensity')\n",
    "plt.savefig('background_subtraction_high.pdf', dpi = 300, bbox_inches = 'tight')\n",
    "\n",
    "fig = plt.figure(figsize = (15,5))\n",
    "ax2 = plt.axes()\n",
    "plt.subplot(1,2,1)\n",
    "plt.title('Raw - Sky')\n",
    "ask = plt.imshow(sci-sky, cmap = 'hot', vmin = vmin, vmax = vmax, aspect= 'auto')\n",
    "plt.xlim(0,1000)\n",
    "\n",
    "plt.subplot(1,2,2)\n",
    "plt.title('Raw - Bias')\n",
    "plt.imshow(sci-bias, cmap = 'hot', vmin = 0, vmax = 1400, aspect= 'auto')\n",
    "plt.xlim(0,1000)\n",
    "\n",
    "\n",
    "cbar_ax = fig.add_axes([ax2.get_position().x1+0.03,ax1.get_position().y0,0.03,ax1.get_position().height])\n",
    "fig.colorbar(ask, cax=cbar_ax, label= r'Pixel intensity')\n",
    "plt.savefig('background_subtraction_low.pdf', dpi = 300, bbox_inches = 'tight')"
   ]
  },
  {
   "cell_type": "code",
   "execution_count": null,
   "metadata": {},
   "outputs": [],
   "source": []
  },
  {
   "cell_type": "markdown",
   "metadata": {},
   "source": [
    "###### How to show the histogram of a normalised flat field?"
   ]
  },
  {
   "cell_type": "markdown",
   "metadata": {},
   "source": [
    "Do the following:\n",
    "\n",
    "Subtract the dark from your flat field, note they must have the same exposure time.\n",
    "\n",
    "Reshape your 2D array into 1D array.\n",
    "\n",
    "Get the mean of the 1D array.\n",
    "\n",
    "Devide the 1D array by the mean.\n",
    "\n",
    "Now you can draw a histogram, remember set the bins with 'bins = np.arange(0.5, 1.5, 0.01)'. You can use slightly different values to set the bins, but be reasonable."
   ]
  },
  {
   "cell_type": "code",
   "execution_count": null,
   "metadata": {},
   "outputs": [],
   "source": [
    "white = fits.open('white0001-0040.fts')\n",
    "white = white[0].data\n",
    "\n",
    "K = white-image_data1\n",
    "#K = K[600:800, 600:800]\n",
    "#K = K.reshape(200*200,)\n",
    "K = K.reshape(1024*1360,)\n",
    "Km = np.mean(K)\n",
    "Ktot = K/Km\n",
    "plt.title('1 s exposure')\n",
    "plt.hist(Ktot, bins = np.arange(0.5,1.5,0.05), hatch=\"/\", fill=False, edgecolor = 'teal', lw = 2, density = True)\n",
    "plt.xlabel(r'Count$/\\mu$')\n",
    "plt.ylabel('Normalized count')\n",
    "plt.savefig('normalized_hist.pdf', dpi = 300, bbox_inches = 'tight')\n"
   ]
  },
  {
   "cell_type": "markdown",
   "metadata": {},
   "source": [
    "###### The following part concerns the defocusing part."
   ]
  },
  {
   "cell_type": "code",
   "execution_count": null,
   "metadata": {},
   "outputs": [],
   "source": [
    "#Read in a well focused image. You must put your own \n",
    "#fits file in the right folder.\n",
    "focused_list = fits.open('orion_on_longexp0001-0023.fts')\n",
    "focused_data = focused_list[0].data\n",
    "fdata = focused_data - alow1 - sky"
   ]
  },
  {
   "cell_type": "code",
   "execution_count": null,
   "metadata": {
    "scrolled": false
   },
   "outputs": [],
   "source": [
    "import matplotlib.patches as patches\n",
    "\n",
    "#set figure size\n",
    "\n",
    "fig, ax = plt.subplots(figsize = (10,10))\n",
    "ax.set_title('30 s focused')\n",
    "#show image, set colour map, set vmin and vmax.\n",
    "ak = ax.imshow(fdata, cmap='hot', vmin = -1000, vmax = 40000, aspect = 'auto',interpolation = 'bicubic')\n",
    "rects_in = [patches.Rectangle(xy=[165, 323], width=20, height=20, fill=False)]\n",
    "ax.add_artist(rects_in[0])\n",
    "rects_in[0].set_lw(1)#set line width\n",
    "rects_in[0].set_color('yellow')#set line colour\n",
    "\n",
    "rects_in = [patches.Rectangle(xy=[160, 318], width=30, height=30, fill=False)]\n",
    "ax.add_artist(rects_in[0])\n",
    "rects_in[0].set_lw(1)#set line width\n",
    "rects_in[0].set_color('blue')#set line colour\n",
    "\n",
    "#this is the outer blue rectangle.\n",
    "#rects_out = [Rectangle(xy=[255, 840], width=35, height=35, fill=False)]     # empty rectangle\n",
    "#ax.add_artist(rects_out[0])\n",
    "#rects_out[0].set_lw(1)\n",
    "#rects_out[0].set_color('blue')\n",
    "#show only a small patch around a bright star\n",
    "ax.set_xlim(150, 200)\n",
    "ax.set_ylim(310, 360)\n",
    "cbar_ax = fig.add_axes([ax1.get_position().x1+0.03,ax1.get_position().y0,0.03,ax1.get_position().height])\n",
    "fig.colorbar(ak, cax=cbar_ax, label= r'Pixel intensity')\n",
    "plt.savefig('focused.pdf', dpi = 300, bbox_inches = 'tight')\n",
    "\n",
    "fig, ax = plt.subplots(figsize = (10,10))\n",
    "ax.set_title('30 s defocused back')\n",
    "fdata_b = fits.open('orion_on_longexp_backdefoc0001-0010.fts')\n",
    "fdata_b = fdata_b[0].data\n",
    "ak = ax.imshow(fdata_b, cmap='hot', vmin = 5500, vmax = 8000, aspect = 'auto',interpolation = 'bicubic')\n",
    "ax.set_xlim(140, 230)\n",
    "ax.set_ylim(290, 380)\n",
    "rects_in = [patches.Rectangle(xy=[150, 305], width=65, height=65, fill=False)]\n",
    "ax.add_artist(rects_in[0])\n",
    "rects_in[0].set_lw(1)#set line width\n",
    "rects_in[0].set_color('yellow')#set line colour\n",
    "\n",
    "rects_in = [patches.Rectangle(xy=[145, 300], width=75, height=75, fill=False)]\n",
    "ax.add_artist(rects_in[0])\n",
    "rects_in[0].set_lw(1)#set line width\n",
    "rects_in[0].set_color('blue')#set line colour\n",
    "\n",
    "cbar_ax = fig.add_axes([ax1.get_position().x1+0.03,ax1.get_position().y0,0.03,ax1.get_position().height])\n",
    "fig.colorbar(ak, cax=cbar_ax, label= r'Pixel intensity')\n",
    "plt.savefig('backfocused.pdf', dpi = 300, bbox_inches = 'tight')\n",
    "\n",
    "\n",
    "fig, ax = plt.subplots(figsize = (10,10))\n",
    "ax.set_title('30 s defocused front')\n",
    "fdata_f = fits.open('orion_on_longexp_frontdefoc0001-0010.fts')\n",
    "fdata_f = fdata_f[0].data\n",
    "ak = ax.imshow(fdata_f, cmap='hot', vmin = 5500, vmax = 8000, aspect = 'auto',interpolation = 'bicubic')\n",
    "ax.set_xlim(130, 240)\n",
    "ax.set_ylim(280, 385)\n",
    "rects_in = [patches.Rectangle(xy=[148, 292], width=80, height=80, fill=False)]\n",
    "ax.add_artist(rects_in[0])\n",
    "rects_in[0].set_lw(1)#set line width\n",
    "rects_in[0].set_color('yellow')#set line colour\n",
    "\n",
    "rects_in = [patches.Rectangle(xy=[143, 287], width=90, height=90, fill=False)]\n",
    "ax.add_artist(rects_in[0])\n",
    "rects_in[0].set_lw(1)#set line width\n",
    "rects_in[0].set_color('blue')#set line colour\n",
    "\n",
    "cbar_ax = fig.add_axes([ax1.get_position().x1+0.03,ax1.get_position().y0,0.03,ax1.get_position().height])\n",
    "fig.colorbar(ak, cax=cbar_ax, label= r'Pixel intensity')\n",
    "plt.savefig('frontfocused.pdf', dpi = 300, bbox_inches = 'tight')\n",
    "\n",
    "\"\"\"\n",
    "#this is the inner yellow rectangle, 'xy' is the coordinates of\n",
    "#lower left corner, then you specify width and height\n",
    "rects_in = [Rectangle(xy=[260, 845], width=25, height=25, fill=False)]\n",
    "ax.add_artist(rects_in[0])\n",
    "rects_in[0].set_lw(1)#set line width\n",
    "rects_in[0].set_color('yellow')#set line colour\n",
    "\n",
    "\n",
    "#this is the outer blue rectangle.\n",
    "rects_out = [Rectangle(xy=[255, 840], width=35, height=35, fill=False)]     # empty rectangle\n",
    "ax.add_artist(rects_out[0])\n",
    "rects_out[0].set_lw(1)\n",
    "rects_out[0].set_color('blue')\n",
    "\"\"\"\n"
   ]
  },
  {
   "cell_type": "code",
   "execution_count": null,
   "metadata": {},
   "outputs": [],
   "source": [
    "#Defocused larger because smaller chance of overexposing pixels\n",
    "\n",
    "foc = (np.sum(fdata[318:348,160:165]) + np.sum(fdata[343:348, 165:185]) + \\\n",
    " np.sum(fdata[318:323,165:185]) + np.sum(fdata[318:348, 185:190])) / (5*30 + 20*5 + 20*5 + 5*30)\n",
    "\n",
    "back = (np.sum(fdata_b[300:375,145:150]) + np.sum(fdata_b[370:375,150:215]) + \\\n",
    "        np.sum(fdata_b[300:305,150:215]) + np.sum(fdata_b[300:375,215:220]))/(5*75 + 5*65 + 5*65 + 5*75)\n",
    "\n",
    "front = (np.sum(fdata_f[287:287+90,143:148]) + np.sum(fdata_f[372:377, 148:148+80]) \\\n",
    "         + np.sum(fdata_f[287:292,148:148+80]) + np.sum(fdata_f[287:287+90,148+80:143+90])) / (5*90 + 5*80 + 5*80 + 5*90)\n",
    "\n",
    "\n",
    "print('Focused = ',np.sum(fdata[323:343,165:185]) - foc*20*20)\n",
    "print()\n",
    "print('Front defocused = ', np.sum(fdata_f[305:370,150:150+65]) - front*65*65)\n",
    "print()\n",
    "print('Back focused = ', np.sum(fdata_f[292:292+80,148:148+80]) - back*80*80)\n",
    "print()\n",
    "print('Back - Focused=',B-F)\n",
    "print()\n",
    "print('Front - Focused=',FR-F)\n",
    "F = np.sum(fdata[427:442,522:537]) - foc*15*15\n",
    "B = np.sum(fdata_f[405:495,495:560]) - back*65*65\n",
    "FR = np.sum(fdata_f[400:465,515:580]) - front*65*65\n"
   ]
  },
  {
   "cell_type": "code",
   "execution_count": null,
   "metadata": {},
   "outputs": [],
   "source": [
    "#calculating the mean count inside the two rectangles.\n",
    "#ATTENTION:the first index in the array is in the vertical direction.\n",
    "#the second index is in the horizontal direction.\n",
    "#I don't quite understand why this is the case, but it simply is.\n",
    "#why to understand why the following expression is the mean count\n",
    "#between the two rectangles. np.sum gives the sum of all the elements\n",
    "#of the input array.\n",
    "\n",
    "#if a line is to long, you can separate it into several lines\n",
    "#by adding '\\'. So these four lines is one expression.\n",
    "(np.sum(focused_data[840:875, 255:260]) + \\\n",
    "np.sum(focused_data[870:875, 260:285]) + \\\n",
    "np.sum(focused_data[840:845, 260:285]) + \\\n",
    "np.sum(focused_data[840:875, 285:290]))/(5*35 + 25*5 + 25*5 + 5*35)"
   ]
  },
  {
   "cell_type": "code",
   "execution_count": null,
   "metadata": {},
   "outputs": [],
   "source": [
    "#The photon count due to the star is the total count inside the\n",
    "#yellow rectangle subtracted by \n",
    "#(mean background count)*(number of pixels inside the yellow rectangle)\n",
    "\n",
    "np.sum(focused_data[845:870, 260:285]) - 5834.87*25*25"
   ]
  },
  {
   "cell_type": "markdown",
   "metadata": {},
   "source": [
    "You should have to adapt the codes in this section for your own use. Show the image first, adjust the positions of the two rectangles, make sure they are centered well on a bright star. Then calculate the mean count of the background, subtracted it from the total count inside the yellow rectangle. The result is the total count due to star light.\n",
    "\n",
    "Then you should repeat the same procesure for the defocused images. Then compare the counts."
   ]
  },
  {
   "cell_type": "markdown",
   "metadata": {},
   "source": [
    "###### Some more reminders"
   ]
  },
  {
   "cell_type": "markdown",
   "metadata": {},
   "source": [
    "Don't be afraid of error messages. Write a code takes little time and effort. Fix all the errors  takes far more than that. It's quite common that you spend hours fixing a seemingly naive error.\n",
    "\n",
    "Python is really used in all areas. So your problem is already solved somewhere on the internet. Google with your question, you should be able to find a solution.\n",
    "\n",
    "If still not, ask me."
   ]
  },
  {
   "cell_type": "markdown",
   "metadata": {},
   "source": [
    "# Filters"
   ]
  },
  {
   "cell_type": "code",
   "execution_count": null,
   "metadata": {},
   "outputs": [],
   "source": [
    "KK = Ktot.reshape((1024,1360))\n",
    "\n",
    "regul = fits.open('orion_on_1s0001-0030.fts')\n",
    "regul = regul[0].data\n",
    "regul = regul/KK - sky/KK\n",
    "blue = fits.open('orion_on_1s_blue0001-0030.fts')\n",
    "blue = blue[0].data\n",
    "blue = blue/KK - sky/KK\n",
    "red = fits.open('orion_on_1s_red0001-0030.fts')\n",
    "red = red[0].data\n",
    "red = red/KK - sky/KK"
   ]
  },
  {
   "cell_type": "code",
   "execution_count": null,
   "metadata": {},
   "outputs": [],
   "source": [
    "fig = plt.figure(figsize = (20,6))\n",
    "vmin = 0\n",
    "vmax = 500\n",
    "plt.subplot(1,3,1)\n",
    "plt.title('No filter')\n",
    "plt.text(120, 770, 'Betelgeuse', color = 'white')\n",
    "plt.text(790, 245, 'Rigel', color = 'white')\n",
    "plt.xlim(0,1000)\n",
    "plt.ylim(850,200)\n",
    "ax = plt.imshow(regul,vmin = vmin, vmax = vmax,cmap = 'hot', aspect = 'auto')\n",
    "plt.subplot(1,3,2)\n",
    "plt.title('Blue filter')\n",
    "plt.xlim(0,1000)\n",
    "plt.ylim(850,200)\n",
    "plt.imshow(blue, vmin = vmin, vmax = vmax,cmap = 'hot', aspect = 'auto')\n",
    "plt.subplot(1,3,3)\n",
    "plt.title('Red filter')\n",
    "plt.xlim(0,1000)\n",
    "plt.ylim(850,200)\n",
    "plt.imshow(red, vmin = vmin, vmax = vmax,cmap = 'hot', aspect = 'auto')\n",
    "cbar_ax = fig.add_axes([ax1.get_position().x1+0.03,ax1.get_position().y0,0.03,ax1.get_position().height])\n",
    "fig.colorbar(ax, cax=cbar_ax, label= r'Pixel intensity')\n",
    "plt.savefig('filters.pdf', dpi = 300, bbox_inches = 'tight')"
   ]
  },
  {
   "cell_type": "code",
   "execution_count": null,
   "metadata": {},
   "outputs": [],
   "source": []
  }
 ],
 "metadata": {
  "kernelspec": {
   "display_name": "Python 3 (ipykernel)",
   "language": "python",
   "name": "python3"
  },
  "language_info": {
   "codemirror_mode": {
    "name": "ipython",
    "version": 3
   },
   "file_extension": ".py",
   "mimetype": "text/x-python",
   "name": "python",
   "nbconvert_exporter": "python",
   "pygments_lexer": "ipython3",
   "version": "3.10.12"
  }
 },
 "nbformat": 4,
 "nbformat_minor": 1
}
